{
 "cells": [
  {
   "cell_type": "markdown",
   "id": "e46639c3",
   "metadata": {},
   "source": [
    "1) Write an SQL query to fetch intersecting records of two tables.\n",
    "\n",
    ":- (select * from worker)\n",
    "    intersect\n",
    "   (select * from workerclone)"
   ]
  },
  {
   "cell_type": "markdown",
   "id": "7ab48a60",
   "metadata": {},
   "source": [
    "2) Write an SQL query to show records from one table that another table does not have.\n",
    "\n",
    ":- select * from worker \n",
    "   minus\n",
    "   select * from title"
   ]
  }
 ],
 "metadata": {
  "kernelspec": {
   "display_name": "Python 3 (ipykernel)",
   "language": "python",
   "name": "python3"
  },
  "language_info": {
   "codemirror_mode": {
    "name": "ipython",
    "version": 3
   },
   "file_extension": ".py",
   "mimetype": "text/x-python",
   "name": "python",
   "nbconvert_exporter": "python",
   "pygments_lexer": "ipython3",
   "version": "3.9.7"
  }
 },
 "nbformat": 4,
 "nbformat_minor": 5
}
